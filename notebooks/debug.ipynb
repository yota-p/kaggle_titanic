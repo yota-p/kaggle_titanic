{
 "cells": [
  {
   "cell_type": "code",
   "execution_count": 1,
   "metadata": {},
   "outputs": [
    {
     "output_type": "execute_result",
     "data": {
      "text/plain": [
       "'/home/yh/git/kaggle_jane-street-market-prediction/notebooks'"
      ]
     },
     "metadata": {},
     "execution_count": 1
    }
   ],
   "source": [
    "%pwd"
   ]
  },
  {
   "cell_type": "code",
   "execution_count": 3,
   "metadata": {},
   "outputs": [],
   "source": [
    "import pandas as pd\n",
    "import numpy as np\n",
    "\n",
    "DATA_DIR = '../data'\n",
    "\n",
    "train = pd.read_pickle(f'{DATA_DIR}/tmp_train.pkl')"
   ]
  },
  {
   "cell_type": "code",
   "execution_count": 4,
   "metadata": {},
   "outputs": [],
   "source": [
    "def utility_score_pd_scaled(date, weight, resp, action):\n",
    "    # scale = 1000000 / y.index.size\n",
    "    scale = 1000000 / len(date)\n",
    "    count_i = len(pd.unique(date))\n",
    "    Pi = np.bincount(date, weight * resp * action)\n",
    "    t = np.sum(Pi) / np.sqrt(np.sum(Pi ** 2)) * np.sqrt(250 / count_i)\n",
    "    u = np.clip(t, 0, 6) * np.sum(Pi)\n",
    "    return u * scale"
   ]
  },
  {
   "cell_type": "code",
   "execution_count": 7,
   "metadata": {},
   "outputs": [
    {
     "output_type": "error",
     "ename": "NameError",
     "evalue": "name 'pred_tr' is not defined",
     "traceback": [
      "\u001b[0;31m---------------------------------------------------------------------------\u001b[0m",
      "\u001b[0;31mNameError\u001b[0m                                 Traceback (most recent call last)",
      "\u001b[0;32m<ipython-input-7-8f921f617481>\u001b[0m in \u001b[0;36m<module>\u001b[0;34m\u001b[0m\n\u001b[1;32m      5\u001b[0m                 \u001b[0mtrain\u001b[0m\u001b[0;34m.\u001b[0m\u001b[0mloc\u001b[0m\u001b[0;34m[\u001b[0m\u001b[0mtr\u001b[0m\u001b[0;34m,\u001b[0m \u001b[0;34m'weight'\u001b[0m\u001b[0;34m]\u001b[0m\u001b[0;34m.\u001b[0m\u001b[0mvalues\u001b[0m\u001b[0;34m,\u001b[0m\u001b[0;34m\u001b[0m\u001b[0;34m\u001b[0m\u001b[0m\n\u001b[1;32m      6\u001b[0m                 \u001b[0mtrain\u001b[0m\u001b[0;34m.\u001b[0m\u001b[0mloc\u001b[0m\u001b[0;34m[\u001b[0m\u001b[0mtr\u001b[0m\u001b[0;34m,\u001b[0m \u001b[0;34m'resp'\u001b[0m\u001b[0;34m]\u001b[0m\u001b[0;34m.\u001b[0m\u001b[0mvalues\u001b[0m\u001b[0;34m,\u001b[0m\u001b[0;34m\u001b[0m\u001b[0;34m\u001b[0m\u001b[0m\n\u001b[0;32m----> 7\u001b[0;31m                 pred_tr)\n\u001b[0m\u001b[1;32m      8\u001b[0m utility_val = utility_score_pd_scaled(\n\u001b[1;32m      9\u001b[0m                 \u001b[0mtrain\u001b[0m\u001b[0;34m.\u001b[0m\u001b[0mloc\u001b[0m\u001b[0;34m[\u001b[0m\u001b[0mte\u001b[0m\u001b[0;34m,\u001b[0m \u001b[0;34m'date'\u001b[0m\u001b[0;34m]\u001b[0m\u001b[0;34m.\u001b[0m\u001b[0mvalues\u001b[0m\u001b[0;34m,\u001b[0m\u001b[0;34m\u001b[0m\u001b[0;34m\u001b[0m\u001b[0m\n",
      "\u001b[0;31mNameError\u001b[0m: name 'pred_tr' is not defined"
     ]
    }
   ],
   "source": [
    "tr = range(0, 573677)\n",
    "te = range(573677, 573677+247503)\n",
    "\n",
    "utility_tr = utility_score_pd_scaled(\n",
    "                train.loc[tr, 'date'].values,\n",
    "                train.loc[tr, 'weight'].values,\n",
    "                train.loc[tr, 'resp'].values,\n",
    "                pred_tr)\n",
    "utility_val = utility_score_pd_scaled(\n",
    "                train.loc[te, 'date'].values,\n",
    "                train.loc[te, 'weight'].values,\n",
    "                train.loc[te, 'resp'].values,\n",
    "                pred_val)\n",
    "utility_tr, utility_val"
   ]
  },
  {
   "source": [
    "len(sub_v9), sub_v9.action.sum()"
   ],
   "cell_type": "code",
   "metadata": {},
   "execution_count": 3,
   "outputs": [
    {
     "output_type": "execute_result",
     "data": {
      "text/plain": [
       "(15219, 8176)"
      ]
     },
     "metadata": {},
     "execution_count": 3
    }
   ]
  },
  {
   "cell_type": "code",
   "execution_count": 4,
   "metadata": {},
   "outputs": [
    {
     "output_type": "execute_result",
     "data": {
      "text/plain": [
       "(15219, 12286)"
      ]
     },
     "metadata": {},
     "execution_count": 4
    }
   ],
   "source": [
    "len(sub_v12), sub_v12.action.sum()"
   ]
  },
  {
   "cell_type": "code",
   "execution_count": 26,
   "metadata": {
    "tags": []
   },
   "outputs": [],
   "source": [
    "sub_mult = np.zeros(sub_v9.action.shape)\n",
    "for i in range(len(sub_v9)):\n",
    "    sub_mult[i] = sub_v9.action.values[i] + sub_v12.action.values[i]"
   ]
  },
  {
   "cell_type": "code",
   "execution_count": 11,
   "metadata": {},
   "outputs": [
    {
     "output_type": "stream",
     "name": "stdout",
     "text": [
      "[14:33:40] WARNING: ../src/gbm/gbtree.cc:343: Loading from a raw memory buffer on CPU only machine.  Changing tree_method to hist.\n",
      "[14:33:40] WARNING: ../src/learner.cc:207: No visible GPU is found, setting `gpu_id` to -1\n",
      "[14:33:40] WARNING: ../src/gbm/gbtree.cc:343: Loading from a raw memory buffer on CPU only machine.  Changing tree_method to hist.\n",
      "[14:33:40] WARNING: ../src/learner.cc:207: No visible GPU is found, setting `gpu_id` to -1\n",
      "[14:33:40] WARNING: ../src/gbm/gbtree.cc:343: Loading from a raw memory buffer on CPU only machine.  Changing tree_method to hist.\n",
      "[14:33:40] WARNING: ../src/learner.cc:207: No visible GPU is found, setting `gpu_id` to -1\n",
      "[14:33:40] WARNING: ../src/gbm/gbtree.cc:343: Loading from a raw memory buffer on CPU only machine.  Changing tree_method to hist.\n",
      "[14:33:40] WARNING: ../src/learner.cc:207: No visible GPU is found, setting `gpu_id` to -1\n"
     ]
    }
   ],
   "source": [
    "model_v9 = pd.read_pickle(f'{DATA_DIR}/v9/model.pkl')\n",
    "model_v12 = [None, None, None]\n",
    "model_v12[0] = pd.read_pickle(f'{DATA_DIR}/v12/model_0.pkl')\n",
    "model_v12[1] = pd.read_pickle(f'{DATA_DIR}/v12/model_1.pkl')\n",
    "model_v12[2] = pd.read_pickle(f'{DATA_DIR}/v12/model_2.pkl')"
   ]
  },
  {
   "cell_type": "code",
   "execution_count": 16,
   "metadata": {},
   "outputs": [],
   "source": [
    "param_v9 = model_v9.get_params()"
   ]
  },
  {
   "cell_type": "code",
   "execution_count": 17,
   "metadata": {},
   "outputs": [],
   "source": [
    "param_v12 = model_v12[0].get_params()"
   ]
  },
  {
   "cell_type": "code",
   "execution_count": 18,
   "metadata": {},
   "outputs": [],
   "source": [
    "for k, v in param_v9.items():\n",
    "    if not param_v9[k] == param_v9[k]:\n",
    "        print(k)"
   ]
  }
 ],
 "metadata": {
  "kernelspec": {
   "display_name": "Python 3",
   "language": "python",
   "name": "python3"
  },
  "language_info": {
   "codemirror_mode": {
    "name": "ipython",
    "version": 3
   },
   "file_extension": ".py",
   "mimetype": "text/x-python",
   "name": "python",
   "nbconvert_exporter": "python",
   "pygments_lexer": "ipython3",
   "version": "3.7.6-final"
  }
 },
 "nbformat": 4,
 "nbformat_minor": 4
}