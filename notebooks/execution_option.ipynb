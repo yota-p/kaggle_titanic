{
 "cells": [
  {
   "cell_type": "code",
   "execution_count": 43,
   "metadata": {},
   "outputs": [],
   "source": [
    "# Debug options for Jupyter NB environment\n",
    "# Refer get_environment.py\n",
    "\n",
    "import os\n",
    "os.environ['EXP_SMALL']='False'\n",
    "os.environ['EXP_NOCACHE']='False'\n",
    "os.environ['EXP_NOTRAIN']='False'\n",
    "os.environ['EXP_NOPREDICT']='False'"
   ]
  }
 ],
 "metadata": {
  "kernelspec": {
   "display_name": "Python 3",
   "language": "python",
   "name": "python3"
  },
  "language_info": {
   "codemirror_mode": {
    "name": "ipython",
    "version": 3
   },
   "file_extension": ".py",
   "mimetype": "text/x-python",
   "name": "python",
   "nbconvert_exporter": "python",
   "pygments_lexer": "ipython3",
   "version": "3.7.6"
  }
 },
 "nbformat": 4,
 "nbformat_minor": 4
}
